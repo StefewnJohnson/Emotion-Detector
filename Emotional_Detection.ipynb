{
 "cells": [
  {
   "cell_type": "code",
   "execution_count": null,
   "metadata": {},
   "outputs": [],
   "source": [
    "# !pip uninstall torch -y"
   ]
  },
  {
   "cell_type": "code",
   "execution_count": null,
   "metadata": {},
   "outputs": [],
   "source": [
    "# !pip install torch==2.2.1 -q"
   ]
  },
  {
   "cell_type": "code",
   "execution_count": null,
   "metadata": {},
   "outputs": [],
   "source": [
    "!pip install datasets -q"
   ]
  },
  {
   "cell_type": "code",
   "execution_count": null,
   "metadata": {},
   "outputs": [],
   "source": [
    "import pandas as pd\n",
    "import numpy as np\n",
    "from datasets import load_dataset\n",
    "import json\n",
    "import ast"
   ]
  },
  {
   "cell_type": "code",
   "execution_count": null,
   "metadata": {},
   "outputs": [],
   "source": [
    "dataset = load_dataset(\"daily_dialog\")"
   ]
  },
  {
   "cell_type": "code",
   "execution_count": null,
   "metadata": {},
   "outputs": [],
   "source": [
    "train = pd.DataFrame(dataset[\"train\"]) #80% of the data set used to train the LLm\n",
    "validation = pd.DataFrame(dataset[\"validation\"]) #The correct output for the 20%\n",
    "test = pd.DataFrame(dataset[\"test\"]) #The output of the LLM"
   ]
  },
  {
   "cell_type": "code",
   "execution_count": null,
   "metadata": {},
   "outputs": [],
   "source": [
    "train"
   ]
  },
  {
   "cell_type": "code",
   "execution_count": null,
   "metadata": {},
   "outputs": [],
   "source": [
    "def format_GPT2_last_utterance(row):\n",
    "    # Convert string representations into actual Python objects/lists\n",
    "    dialog = row['dialog']\n",
    "    emotions = row['emotion']\n",
    "\n",
    "    formatted_dialog_GPT2 = \"\"\n",
    "    for i, (utterance, emotion) in enumerate(zip(dialog, emotions)):\n",
    "\n",
    "        speaker = \"<Speaker_1>\" if i % 2 == 0 else \"<Speaker_2>\"\n",
    "        if i < len(dialog)-1:\n",
    "            formatted_dialog_GPT2 += f\"{speaker}: {utterance} | <Emotion>: {emotion} <|endofutterance|> \"\n",
    "        else:\n",
    "            formatted_dialog_GPT2 += f\"{speaker}: {utterance} | <Emotion>: \"\n",
    "\n",
    "    last_utterance_emotion = emotions[-1]\n",
    "\n",
    "    return formatted_dialog_GPT2, last_utterance_emotion"
   ]
  },
  {
   "cell_type": "code",
   "execution_count": null,
   "metadata": {},
   "outputs": [],
   "source": [
    "def format_GPT2_no_last_utterance(row):\n",
    "    dialog = ast.literal_eval(row['dialog'])[:-1]  # Convert string to list and remove last utterance\n",
    "    labels = row['classification']\n",
    "\n",
    "    # Map classification to numeric labels\n",
    "    label_map = {'No Derailment': 0, 'Positive Derailment': 1, 'Negative Derailment': 2}\n",
    "    numeric_label = label_map[labels]\n",
    "\n",
    "    formatted_dialog_GPT2 = \"\"\n",
    "    for i, utterance in enumerate(dialog):\n",
    "        speaker = \"<Speaker_1>\" if i % 2 == 0 else \"<Speaker_2>\"\n",
    "        formatted_dialog_GPT2 += f\"{speaker}: {utterance}<|endofutterance|> \"\n",
    "\n",
    "    return pd.Series([formatted_dialog_GPT2, numeric_label])"
   ]
  },
  {
   "cell_type": "code",
   "execution_count": null,
   "metadata": {},
   "outputs": [],
   "source": [
    "## Formatting the training set\n",
    "\n",
    "formatted_dialogs = []\n",
    "labels = []\n",
    "for _, row in train.iterrows():\n",
    "    formatted_dialog, label = format_GPT2_last_utterance(row)\n",
    "    formatted_dialogs.append(formatted_dialog)\n",
    "    labels.append(label)\n",
    "\n",
    "formatted_dialogs"
   ]
  },
  {
   "cell_type": "code",
   "execution_count": null,
   "metadata": {},
   "outputs": [],
   "source": [
    "## Formatting the validation set\n",
    "\n",
    "formatted_dialogs_val = []\n",
    "labels_val = []\n",
    "for _, row in test.iterrows():\n",
    "    formatted_dialog_val, label_val = format_GPT2_last_utterance(row)\n",
    "    formatted_dialogs_val.append(formatted_dialog_val)\n",
    "    labels_val.append(label_val)"
   ]
  },
  {
   "cell_type": "code",
   "execution_count": null,
   "metadata": {},
   "outputs": [],
   "source": [
    "## Formatting the test set\n",
    "\n",
    "formatted_dialogs_test = []\n",
    "labels_test = []\n",
    "for _, row in test.iterrows():\n",
    "    formatted_dialog_test, label_test = format_GPT2_last_utterance(row)\n",
    "    formatted_dialogs_test.append(formatted_dialog_test)\n",
    "    labels_test.append(label_test)"
   ]
  },
  {
   "cell_type": "code",
   "execution_count": null,
   "metadata": {},
   "outputs": [],
   "source": [
    "# pip install torch"
   ]
  },
  {
   "cell_type": "code",
   "execution_count": null,
   "metadata": {},
   "outputs": [],
   "source": [
    "import torch\n",
    "from torch.utils.data import DataLoader, TensorDataset, random_split\n",
    "from transformers import GPT2Tokenizer, GPT2ForSequenceClassification, AdamW\n",
    "from tqdm import tqdm\n",
    "\n",
    "# SETTING UP T4 GPU\n",
    "device = torch.device(\"cuda\" if torch.cuda.is_available() else \"cpu\")\n",
    "print(f\"Using device: {device}\")"
   ]
  },
  {
   "cell_type": "code",
   "execution_count": null,
   "metadata": {},
   "outputs": [],
   "source": [
    "torch.__version__"
   ]
  },
  {
   "cell_type": "code",
   "execution_count": null,
   "metadata": {},
   "outputs": [],
   "source": [
    "# Load model and tokenizer\n",
    "tokenizer = GPT2Tokenizer.from_pretrained('gpt2',\n",
    "                                          add_bos_token = True,\n",
    "                                          add_eos_token = True)\n",
    "model = GPT2ForSequenceClassification.from_pretrained('gpt2', num_labels=7)\n",
    "model.to(device)\n",
    "\n",
    "# Define special tokens\n",
    "special_tokens = {'bos_token': '<|startoftext|>','sep_token': '<|endofutterance|>', 'additional_special_tokens': ['<Speaker_1>', '<Speaker_2>', '<Emotion>']}\n",
    "tokenizer.add_special_tokens(special_tokens)\n",
    "model.resize_token_embeddings(len(tokenizer))\n",
    "\n"
   ]
  },
  {
   "cell_type": "code",
   "execution_count": null,
   "metadata": {},
   "outputs": [],
   "source": [
    "len(tokenizer)"
   ]
  },
  {
   "cell_type": "code",
   "execution_count": null,
   "metadata": {},
   "outputs": [],
   "source": [
    "tokenizer.pad_token = tokenizer.eos_token\n",
    "tokenizer.pad_token\n",
    "tokenizer.sep_token\n",
    "tokenizer.bos_token\n",
    "tokenizer.eos_token"
   ]
  },
  {
   "cell_type": "code",
   "execution_count": null,
   "metadata": {},
   "outputs": [],
   "source": [
    "# Tokenize train dataset\n",
    "inputs = tokenizer(formatted_dialogs, padding=True, truncation=True, return_tensors=\"pt\", max_length= 1024)\n",
    "# Create TensorDataset\n",
    "input_ids = inputs['input_ids']\n",
    "attention_mask = inputs['attention_mask']\n",
    "labels_tensor = torch.tensor(labels) #COME BACK TO THIS#\n",
    "dataset = TensorDataset(input_ids, attention_mask, labels_tensor)"
   ]
  },
  {
   "cell_type": "code",
   "execution_count": null,
   "metadata": {},
   "outputs": [],
   "source": [
    "from collections import Counter\n",
    "label_count = Counter(labels)\n",
    "print(label_count)"
   ]
  },
  {
   "cell_type": "code",
   "execution_count": null,
   "metadata": {},
   "outputs": [],
   "source": [
    "input_ids\n"
   ]
  },
  {
   "cell_type": "code",
   "execution_count": null,
   "metadata": {},
   "outputs": [],
   "source": [
    "tokenizer.decode(input_ids[0])"
   ]
  },
  {
   "cell_type": "code",
   "execution_count": null,
   "metadata": {},
   "outputs": [],
   "source": [
    "#Tokenize the validation set\n",
    "val_inputs = tokenizer(formatted_dialogs_val, padding=True, truncation=True, return_tensors=\"pt\", max_length= 1024)\n",
    "# Create TensorDataset for the validation set\n",
    "val_input_ids = val_inputs['input_ids']\n",
    "val_attention_mask = val_inputs['attention_mask']\n",
    "val_labels_tensor = torch.tensor(labels_val) #COME BACK TO THIS#\n",
    "val_dataset = TensorDataset(val_input_ids, val_attention_mask, val_labels_tensor)"
   ]
  },
  {
   "cell_type": "code",
   "execution_count": null,
   "metadata": {},
   "outputs": [],
   "source": [
    "# Tokenize the test set\n",
    "test_inputs = tokenizer(formatted_dialogs_test, padding=True, truncation=True, return_tensors=\"pt\", max_length= 1024)\n",
    "# Create a TensorDataset for the test set\n",
    "test_input_ids = test_inputs['input_ids']\n",
    "test_attention_mask = test_inputs['attention_mask']\n",
    "test_labels_tensor = torch.tensor(labels_test) #COME BACK TO THIS#\n",
    "test_dataset = TensorDataset(test_input_ids, test_attention_mask, test_labels_tensor)"
   ]
  },
  {
   "cell_type": "code",
   "execution_count": null,
   "metadata": {},
   "outputs": [],
   "source": [
    "## Creating the data loaders\n",
    "batch_size = 2\n",
    "train_dataloader = DataLoader(dataset, batch_size=batch_size, shuffle=True)\n",
    "val_dataloader = DataLoader(val_dataset, batch_size=batch_size)\n",
    "test_dataloader = DataLoader(test_dataset, batch_size=batch_size)"
   ]
  },
  {
   "cell_type": "code",
   "execution_count": null,
   "metadata": {},
   "outputs": [],
   "source": [
    "import torch"
   ]
  },
  {
   "cell_type": "code",
   "execution_count": null,
   "metadata": {},
   "outputs": [],
   "source": [
    "from torch.optim import AdamW"
   ]
  },
  {
   "cell_type": "code",
   "execution_count": null,
   "metadata": {},
   "outputs": [],
   "source": [
    "# Defining the optimizer\n",
    "optimizer = AdamW(model.parameters(), lr=1e-5)"
   ]
  },
  {
   "cell_type": "code",
   "execution_count": null,
   "metadata": {},
   "outputs": [],
   "source": [
    "import os\n",
    "os.environ[\"CUDA_LAUNCH_BLOCKING\"] = \"1\""
   ]
  },
  {
   "cell_type": "code",
   "execution_count": null,
   "metadata": {},
   "outputs": [],
   "source": [
    "import copy\n",
    "\n",
    "from sklearn.metrics import f1_score\n",
    "\n",
    "# Training and Validation Loop\n",
    "\n",
    "model.train()\n",
    "num_epochs = 5\n",
    "train_losses = []\n",
    "val_losses = []\n",
    "f1_scores = []\n",
    "best_val_loss = float('inf')\n",
    "patience = 4\n",
    "epochs_no_improve = 0\n",
    "early_stop = False\n",
    "\n",
    "for epoch in tqdm(range(num_epochs), desc = \"Epochs\"):\n",
    "    if early_stop:\n",
    "        print(\"Early stopping\")\n",
    "        break\n",
    "\n",
    "    print(f\"Epoch {epoch+1} of {num_epochs}\")\n",
    "\n",
    "    #Training\n",
    "    total_train_loss = 0\n",
    "    for batch in tqdm(train_dataloader, desc='Training Progress', miniters=10):\n",
    "        input_ids, attention_mask, batch_labels = batch\n",
    "        input_ids, attention_mask, batch_labels = input_ids.to(device), attention_mask.to(device), batch_labels.to(device)\n",
    "        model.config.pad_token_id = tokenizer.pad_token_id\n",
    "        optimizer.zero_grad()\n",
    "        outputs = model(input_ids=input_ids, attention_mask=attention_mask, labels=batch_labels)\n",
    "        loss = outputs.loss\n",
    "        total_train_loss += loss.item()\n",
    "        loss.backward()\n",
    "        optimizer.step()\n",
    "\n",
    "    avg_train_loss = total_train_loss / len(train_dataloader)\n",
    "    train_losses.append(avg_train_loss)\n",
    "    print(f\"Total training loss: {total_train_loss}\")\n",
    "    print(f\"Training loss: {avg_train_loss}\")\n",
    "\n",
    "    #validation\n",
    "    model.eval()\n",
    "    val_predictions = []\n",
    "    val_true_labels = []\n",
    "    total_val_loss = 0\n",
    "    with torch.no_grad():\n",
    "        for batch in tqdm(val_dataloader, desc='Validation Progress', miniters=10):\n",
    "            input_ids, attention_masks, batch_labels = batch\n",
    "            input_ids, attention_masks, batch_labels = input_ids.to(device), attention_masks.to(device), batch_labels.to(device)\n",
    "            outputs = model(input_ids=input_ids, attention_mask=attention_masks, labels=batch_labels)\n",
    "            loss = outputs.loss\n",
    "            total_val_loss += loss.item()\n",
    "\n",
    "            logits = outputs.logits\n",
    "            probs = torch.nn.functional.softmax(logits, dim=1)\n",
    "            pred_classes = torch.argmax(probs, dim=1)\n",
    "\n",
    "            val_predictions.extend(pred_classes.cpu().numpy())\n",
    "            val_true_labels.extend(batch_labels.cpu().numpy())\n",
    "\n",
    "    avg_val_loss = total_val_loss / len(val_dataloader)\n",
    "    val_losses.append(avg_val_loss)\n",
    "    val_macro_f1 = f1_score(val_true_labels, val_predictions, average='macro')\n",
    "    f1_scores.append(val_macro_f1)\n",
    "    print(f\"Validation loss: {avg_val_loss}\")\n",
    "    print(f\"Validation Macro F1 score: {val_macro_f1}\")\n",
    "\n",
    "    # Early Stopping\n",
    "    if avg_val_loss < best_val_loss:\n",
    "        best_val_loss = avg_val_loss\n",
    "        best_model = copy.deepcopy(model.state_dict())\n",
    "        epochs_no_improve = 0\n",
    "    else:\n",
    "        epochs_no_improve += 1\n",
    "        if epochs_no_improve >= patience:\n",
    "            early_stop = True\n",
    "\n",
    "\n",
    "    # Set the model back to training mode\n",
    "    model.train()"
   ]
  }
 ],
 "metadata": {
  "language_info": {
   "name": "python"
  }
 },
 "nbformat": 4,
 "nbformat_minor": 2
}
